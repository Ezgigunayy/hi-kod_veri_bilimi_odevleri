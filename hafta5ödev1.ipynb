{
 "cells": [
  {
   "cell_type": "code",
   "execution_count": 2,
   "metadata": {},
   "outputs": [],
   "source": [
    "dict = {\"Ali\": {\"Matematik\": 85, \"Fizik\": 70, \"Kimya\": 75},\n",
    "    \"Ayşe\": {\"Matematik\": 90, \"Fizik\": 80, \"Kimya\": 85},\n",
    "    \"Mehmet\": {\"Matematik\": 75, \"Fizik\": 65, \"Kimya\": 70}}"
   ]
  },
  {
   "cell_type": "code",
   "execution_count": 3,
   "metadata": {},
   "outputs": [
    {
     "data": {
      "text/plain": [
       "{'Matematik': 90, 'Fizik': 80, 'Kimya': 85}"
      ]
     },
     "execution_count": 3,
     "metadata": {},
     "output_type": "execute_result"
    }
   ],
   "source": [
    "dict[\"Ayşe\"]"
   ]
  },
  {
   "cell_type": "code",
   "execution_count": 4,
   "metadata": {},
   "outputs": [
    {
     "data": {
      "text/plain": [
       "70"
      ]
     },
     "execution_count": 4,
     "metadata": {},
     "output_type": "execute_result"
    }
   ],
   "source": [
    "dict[\"Ali\"][\"Fizik\"]"
   ]
  },
  {
   "cell_type": "code",
   "execution_count": 5,
   "metadata": {},
   "outputs": [
    {
     "data": {
      "text/plain": [
       "75"
      ]
     },
     "execution_count": 5,
     "metadata": {},
     "output_type": "execute_result"
    }
   ],
   "source": [
    "dict[\"Mehmet\"][\"Matematik\"]"
   ]
  },
  {
   "cell_type": "code",
   "execution_count": 7,
   "metadata": {},
   "outputs": [
    {
     "data": {
      "text/plain": [
       "{'Ali': {'Matematik': 85, 'Fizik': 80, 'Kimya': 75},\n",
       " 'Ayşe': {'Matematik': 90, 'Fizik': 80, 'Kimya': 85},\n",
       " 'Mehmet': {'Matematik': 75, 'Fizik': 65, 'Kimya': 70}}"
      ]
     },
     "execution_count": 7,
     "metadata": {},
     "output_type": "execute_result"
    }
   ],
   "source": [
    "dict[\"Ali\"][\"Fizik\"]=80\n",
    "dict"
   ]
  },
  {
   "cell_type": "code",
   "execution_count": 9,
   "metadata": {},
   "outputs": [
    {
     "data": {
      "text/plain": [
       "{'Ali': {'Matematik': 85, 'Fizik': 80, 'Kimya': 75},\n",
       " 'Ayşe': {'Matematik': 90, 'Fizik': 80, 'Kimya': 85},\n",
       " 'Mehmet': {'Matematik': 75, 'Fizik': 65, 'Kimya': 70},\n",
       " 'Ahmet': {'Matematik': 60, 'Fizik': 95, 'Kimya': 45}}"
      ]
     },
     "execution_count": 9,
     "metadata": {},
     "output_type": "execute_result"
    }
   ],
   "source": [
    "dict[\"Ahmet\"]={\"Matematik\":60,\"Fizik\":95,\"Kimya\":45}\n",
    "dict"
   ]
  }
 ],
 "metadata": {
  "kernelspec": {
   "display_name": "Python 3",
   "language": "python",
   "name": "python3"
  },
  "language_info": {
   "codemirror_mode": {
    "name": "ipython",
    "version": 3
   },
   "file_extension": ".py",
   "mimetype": "text/x-python",
   "name": "python",
   "nbconvert_exporter": "python",
   "pygments_lexer": "ipython3",
   "version": "3.12.4"
  }
 },
 "nbformat": 4,
 "nbformat_minor": 2
}
