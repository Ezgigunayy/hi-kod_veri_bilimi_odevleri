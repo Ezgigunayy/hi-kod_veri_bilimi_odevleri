{
 "cells": [
  {
   "cell_type": "code",
   "execution_count": 8,
   "metadata": {},
   "outputs": [
    {
     "name": "stdout",
     "output_type": "stream",
     "text": [
      "Dairenin alanı:  28\n"
     ]
    }
   ],
   "source": [
    "#daireAlanı\n",
    "def daire_alani():\n",
    "    pi = float(input(\"Pi değerini girin: \"))\n",
    "    yaricap = float(input(\"Yarıçapı girin: \"))\n",
    "    alan = pi * (yaricap ** 2)\n",
    "    return round(alan)\n",
    "\n",
    "# Fonksiyonu çağırarak sonucu ekrana yazdırabilirsiniz\n",
    "print(\"Dairenin alanı: \", daire_alani())"
   ]
  },
  {
   "cell_type": "code",
   "execution_count": 18,
   "metadata": {},
   "outputs": [
    {
     "name": "stdout",
     "output_type": "stream",
     "text": [
      "Yaşınız: 23\n"
     ]
    }
   ],
   "source": [
    "#yasHesaplama\n",
    "def yas_hesapla(dogum_yili):\n",
    "    yas = 2024 - dogum_yili\n",
    "    return yas \n",
    "dogum_yili = int(input(\"Doğum yılınızı girin: \"))\n",
    "yas = yas_hesapla(dogum_yili)\n",
    "print(\"Yaşınız:\", yas)"
   ]
  },
  {
   "cell_type": "code",
   "execution_count": 19,
   "metadata": {},
   "outputs": [
    {
     "name": "stdout",
     "output_type": "stream",
     "text": [
      "ezgi, emeklilik için 42 yılın kaldı.\n"
     ]
    }
   ],
   "source": [
    "#emeklilik\n",
    "def yas_hesapla(dogum_yili):\n",
    "    yas = 2024 - dogum_yili\n",
    "    return yas \n",
    "\n",
    "def emeklilik(dogum_yili, isim):\n",
    "    yas = yas_hesapla(dogum_yili)\n",
    "    if yas >= 65:\n",
    "        print(\"Emekli oldunuz!\")\n",
    "    else:\n",
    "        kalan_yil = 65 - yas\n",
    "        print(f\"{isim}, emeklilik için {kalan_yil} yılın kaldı.\")\n",
    "\n",
    "isim = input(\"İsminizi girin: \")\n",
    "dogum_yili = int(input(\"Doğum yılınızı girin: \"))\n",
    "emeklilik(dogum_yili, isim)\n",
    "\n"
   ]
  },
  {
   "cell_type": "code",
   "execution_count": 23,
   "metadata": {},
   "outputs": [
    {
     "name": "stdout",
     "output_type": "stream",
     "text": [
      "3 sayısının faktöriyeli 6 sayısıdır.\n"
     ]
    }
   ],
   "source": [
    "#faktöriyel\n",
    "def faktoriyel(i):\n",
    "    original_i = i  \n",
    "    faktoriyel = 1\n",
    "    while i > 0:\n",
    "        faktoriyel *= i\n",
    "        i -= 1\n",
    "    return \"{} sayısının faktöriyeli {} sayısıdır.\".format(original_i, faktoriyel)\n",
    "\n",
    "sayi = int(input(\"Faktöriyelini hesaplamak istediğiniz sayıyı girin: \"))\n",
    "print(faktoriyel(sayi))\n"
   ]
  }
 ],
 "metadata": {
  "kernelspec": {
   "display_name": "Python 3",
   "language": "python",
   "name": "python3"
  },
  "language_info": {
   "codemirror_mode": {
    "name": "ipython",
    "version": 3
   },
   "file_extension": ".py",
   "mimetype": "text/x-python",
   "name": "python",
   "nbconvert_exporter": "python",
   "pygments_lexer": "ipython3",
   "version": "3.12.4"
  }
 },
 "nbformat": 4,
 "nbformat_minor": 2
}
